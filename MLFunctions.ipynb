{
 "cells": [
  {
   "cell_type": "code",
   "execution_count": 1,
   "id": "f28a0f61",
   "metadata": {},
   "outputs": [],
   "source": [
    "from sklearn.model_selection import train_test_split\n",
    "from sklearn.ensemble import RandomForestClassifier\n",
    "from sklearn.linear_model import LogisticRegression"
   ]
  },
  {
   "cell_type": "code",
   "execution_count": 2,
   "id": "f190ba01",
   "metadata": {},
   "outputs": [],
   "source": [
    "import pandas as pd\n",
    "\n",
    "def get_preprocessed_model(DataFrame):\n",
    "    df = DataFrame.copy()\n",
    "    df.drop([\"id\"], axis=1, inplace=True)\n",
    "    \n",
    "    df.drop(df[df[\"gender\"] == \"Other\"].index, inplace=True)\n",
    "    df[\"bmi\"] = df[\"bmi\"].fillna(df[\"bmi\"].mean())\n",
    "    \n",
    "    df[\"gender\"] = df[\"gender\"].apply(lambda x: 1 if x==\"male\" else 0)\n",
    "    df[\"ever_married\"] = df[\"hypertension\"].apply(lambda x: 1 if x==\"Yes\" else 0 )\n",
    "    df[\"Residence_type\"] = df[\"Residence_type\"].apply(lambda x: 1 if x==\"Urban\" else 0)\n",
    "    \n",
    "    df = pd.get_dummies(df)\n",
    "    return df"
   ]
  },
  {
   "cell_type": "code",
   "execution_count": 3,
   "id": "8805ced7",
   "metadata": {},
   "outputs": [],
   "source": [
    "from sklearn.metrics import accuracy_score, recall_score, precision_score, roc_auc_score, confusion_matrix, f1_score\n",
    "\n",
    "def model_evaluation(y_test, pred=None, pred_proba=None):\n",
    "    confusion = confusion_matrix(y_test, pred)\n",
    "    accuracy = accuracy_score(y_test, pred)\n",
    "    precision = precision_score(y_test, pred)\n",
    "    recall = recall_score(y_test, pred)\n",
    "    roc_auc = roc_auc_score(y_test, pred_proba[:,1])\n",
    "    f1 = f1_score(y_test, pred)\n",
    "    \n",
    "    print(\"confusion matrix\")\n",
    "    print(confusion)\n",
    "    print(f\"accuracy: {accuracy:.3f}, precision: {precision:.3f}, recall: {recall:.3f}, roc_auc: {roc_auc:.3f}, f1: {f1:.3f}\")"
   ]
  }
 ],
 "metadata": {
  "kernelspec": {
   "display_name": "Python 3 (ipykernel)",
   "language": "python",
   "name": "python3"
  },
  "language_info": {
   "codemirror_mode": {
    "name": "ipython",
    "version": 3
   },
   "file_extension": ".py",
   "mimetype": "text/x-python",
   "name": "python",
   "nbconvert_exporter": "python",
   "pygments_lexer": "ipython3",
   "version": "3.9.13"
  },
  "toc": {
   "base_numbering": 1,
   "nav_menu": {},
   "number_sections": true,
   "sideBar": true,
   "skip_h1_title": false,
   "title_cell": "Table of Contents",
   "title_sidebar": "Contents",
   "toc_cell": false,
   "toc_position": {},
   "toc_section_display": true,
   "toc_window_display": false
  }
 },
 "nbformat": 4,
 "nbformat_minor": 5
}
