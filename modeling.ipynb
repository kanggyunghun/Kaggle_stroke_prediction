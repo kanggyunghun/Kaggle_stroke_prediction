{
 "cells": [
  {
   "cell_type": "markdown",
   "id": "6cdc8e77",
   "metadata": {},
   "source": [
    "# model"
   ]
  },
  {
   "cell_type": "code",
   "execution_count": 1,
   "id": "7e23c143",
   "metadata": {},
   "outputs": [],
   "source": [
    "import pandas as pd\n",
    "import numpy as np\n",
    "import matplotlib.pyplot as plt\n",
    "import seaborn as sns\n",
    "%matplotlib inline\n",
    "import warnings \n",
    "warnings.filterwarnings(\"ignore\")\n",
    "\n",
    "import MLFunctions as mf # 사용자 정의 함수 패키지\n",
    "\n",
    "from sklearn.model_selection import train_test_split\n",
    "from sklearn.ensemble import RandomForestClassifier\n",
    "from sklearn.linear_model import LogisticRegression\n",
    "from xgboost import XGBClassifier\n",
    "from lightgbm import LGBMClassifier\n",
    "from sklearn.model_selection import cross_val_score\n",
    "\n",
    "from sklearn.metrics import accuracy_score, recall_score, precision_score, roc_auc_score, confusion_matrix, f1_score\n",
    "\n",
    "from imblearn.over_sampling import SMOTE\n",
    "from sklearn.metrics import ConfusionMatrixDisplay\n",
    "\n",
    "from hyperopt import hp\n",
    "from hyperopt import STATUS_OK\n",
    "from hyperopt import fmin, tpe, Trials"
   ]
  },
  {
   "cell_type": "markdown",
   "id": "c1e42ad7",
   "metadata": {},
   "source": [
    "**get preprocessed data**"
   ]
  },
  {
   "cell_type": "code",
   "execution_count": 2,
   "id": "586ee149",
   "metadata": {},
   "outputs": [
    {
     "name": "stdout",
     "output_type": "stream",
     "text": [
      "(5109, 18)\n"
     ]
    },
    {
     "data": {
      "text/html": [
       "<div>\n",
       "<style scoped>\n",
       "    .dataframe tbody tr th:only-of-type {\n",
       "        vertical-align: middle;\n",
       "    }\n",
       "\n",
       "    .dataframe tbody tr th {\n",
       "        vertical-align: top;\n",
       "    }\n",
       "\n",
       "    .dataframe thead th {\n",
       "        text-align: right;\n",
       "    }\n",
       "</style>\n",
       "<table border=\"1\" class=\"dataframe\">\n",
       "  <thead>\n",
       "    <tr style=\"text-align: right;\">\n",
       "      <th></th>\n",
       "      <th>gender</th>\n",
       "      <th>age</th>\n",
       "      <th>hypertension</th>\n",
       "      <th>heart_disease</th>\n",
       "      <th>ever_married</th>\n",
       "      <th>Residence_type</th>\n",
       "      <th>avg_glucose_level</th>\n",
       "      <th>bmi</th>\n",
       "      <th>stroke</th>\n",
       "      <th>work_type_Govt_job</th>\n",
       "      <th>work_type_Never_worked</th>\n",
       "      <th>work_type_Private</th>\n",
       "      <th>work_type_Self-employed</th>\n",
       "      <th>work_type_children</th>\n",
       "      <th>smoking_status_Unknown</th>\n",
       "      <th>smoking_status_formerly smoked</th>\n",
       "      <th>smoking_status_never smoked</th>\n",
       "      <th>smoking_status_smokes</th>\n",
       "    </tr>\n",
       "  </thead>\n",
       "  <tbody>\n",
       "    <tr>\n",
       "      <th>0</th>\n",
       "      <td>1</td>\n",
       "      <td>67.0</td>\n",
       "      <td>0</td>\n",
       "      <td>1</td>\n",
       "      <td>1</td>\n",
       "      <td>1</td>\n",
       "      <td>228.69</td>\n",
       "      <td>36.60000</td>\n",
       "      <td>1</td>\n",
       "      <td>0</td>\n",
       "      <td>0</td>\n",
       "      <td>1</td>\n",
       "      <td>0</td>\n",
       "      <td>0</td>\n",
       "      <td>0</td>\n",
       "      <td>1</td>\n",
       "      <td>0</td>\n",
       "      <td>0</td>\n",
       "    </tr>\n",
       "    <tr>\n",
       "      <th>1</th>\n",
       "      <td>0</td>\n",
       "      <td>61.0</td>\n",
       "      <td>0</td>\n",
       "      <td>0</td>\n",
       "      <td>1</td>\n",
       "      <td>0</td>\n",
       "      <td>202.21</td>\n",
       "      <td>28.89456</td>\n",
       "      <td>1</td>\n",
       "      <td>0</td>\n",
       "      <td>0</td>\n",
       "      <td>0</td>\n",
       "      <td>1</td>\n",
       "      <td>0</td>\n",
       "      <td>0</td>\n",
       "      <td>0</td>\n",
       "      <td>1</td>\n",
       "      <td>0</td>\n",
       "    </tr>\n",
       "    <tr>\n",
       "      <th>2</th>\n",
       "      <td>1</td>\n",
       "      <td>80.0</td>\n",
       "      <td>0</td>\n",
       "      <td>1</td>\n",
       "      <td>1</td>\n",
       "      <td>0</td>\n",
       "      <td>105.92</td>\n",
       "      <td>32.50000</td>\n",
       "      <td>1</td>\n",
       "      <td>0</td>\n",
       "      <td>0</td>\n",
       "      <td>1</td>\n",
       "      <td>0</td>\n",
       "      <td>0</td>\n",
       "      <td>0</td>\n",
       "      <td>0</td>\n",
       "      <td>1</td>\n",
       "      <td>0</td>\n",
       "    </tr>\n",
       "    <tr>\n",
       "      <th>3</th>\n",
       "      <td>0</td>\n",
       "      <td>49.0</td>\n",
       "      <td>0</td>\n",
       "      <td>0</td>\n",
       "      <td>1</td>\n",
       "      <td>1</td>\n",
       "      <td>171.23</td>\n",
       "      <td>34.40000</td>\n",
       "      <td>1</td>\n",
       "      <td>0</td>\n",
       "      <td>0</td>\n",
       "      <td>1</td>\n",
       "      <td>0</td>\n",
       "      <td>0</td>\n",
       "      <td>0</td>\n",
       "      <td>0</td>\n",
       "      <td>0</td>\n",
       "      <td>1</td>\n",
       "    </tr>\n",
       "    <tr>\n",
       "      <th>4</th>\n",
       "      <td>0</td>\n",
       "      <td>79.0</td>\n",
       "      <td>1</td>\n",
       "      <td>0</td>\n",
       "      <td>1</td>\n",
       "      <td>0</td>\n",
       "      <td>174.12</td>\n",
       "      <td>24.00000</td>\n",
       "      <td>1</td>\n",
       "      <td>0</td>\n",
       "      <td>0</td>\n",
       "      <td>0</td>\n",
       "      <td>1</td>\n",
       "      <td>0</td>\n",
       "      <td>0</td>\n",
       "      <td>0</td>\n",
       "      <td>1</td>\n",
       "      <td>0</td>\n",
       "    </tr>\n",
       "  </tbody>\n",
       "</table>\n",
       "</div>"
      ],
      "text/plain": [
       "   gender   age  hypertension  heart_disease  ever_married  Residence_type  \\\n",
       "0       1  67.0             0              1             1               1   \n",
       "1       0  61.0             0              0             1               0   \n",
       "2       1  80.0             0              1             1               0   \n",
       "3       0  49.0             0              0             1               1   \n",
       "4       0  79.0             1              0             1               0   \n",
       "\n",
       "   avg_glucose_level       bmi  stroke  work_type_Govt_job  \\\n",
       "0             228.69  36.60000       1                   0   \n",
       "1             202.21  28.89456       1                   0   \n",
       "2             105.92  32.50000       1                   0   \n",
       "3             171.23  34.40000       1                   0   \n",
       "4             174.12  24.00000       1                   0   \n",
       "\n",
       "   work_type_Never_worked  work_type_Private  work_type_Self-employed  \\\n",
       "0                       0                  1                        0   \n",
       "1                       0                  0                        1   \n",
       "2                       0                  1                        0   \n",
       "3                       0                  1                        0   \n",
       "4                       0                  0                        1   \n",
       "\n",
       "   work_type_children  smoking_status_Unknown  smoking_status_formerly smoked  \\\n",
       "0                   0                       0                               1   \n",
       "1                   0                       0                               0   \n",
       "2                   0                       0                               0   \n",
       "3                   0                       0                               0   \n",
       "4                   0                       0                               0   \n",
       "\n",
       "   smoking_status_never smoked  smoking_status_smokes  \n",
       "0                            0                      0  \n",
       "1                            1                      0  \n",
       "2                            1                      0  \n",
       "3                            0                      1  \n",
       "4                            1                      0  "
      ]
     },
     "execution_count": 2,
     "metadata": {},
     "output_type": "execute_result"
    }
   ],
   "source": [
    "df_original = pd.read_csv(\"data/healthcare-dataset-stroke-data.csv\")\n",
    "df = mf.get_preprocessed_model(df_original) # 전처리 된 데이터 반환 사용자 정의 함수\n",
    "print(df.shape)\n",
    "df.head()"
   ]
  },
  {
   "cell_type": "markdown",
   "id": "491aa27a",
   "metadata": {},
   "source": [
    "1. random forest\n",
    "2. logistic regression"
   ]
  },
  {
   "cell_type": "markdown",
   "id": "d2386d4b",
   "metadata": {},
   "source": [
    "## model evaluation"
   ]
  },
  {
   "cell_type": "code",
   "execution_count": 3,
   "id": "aa86e163",
   "metadata": {},
   "outputs": [],
   "source": [
    "y_target = df[\"stroke\"]\n",
    "X_features = df.drop([\"stroke\"], axis=1)\n",
    "\n",
    "X_train, X_test, y_train, y_test = train_test_split(X_features, y_target, test_size=0.3, random_state=156)\n",
    "\n",
    "rf_clf = RandomForestClassifier()\n",
    "rf_clf.fit(X_train, y_train)\n",
    "rf_pred = rf_clf.predict(X_test)\n",
    "rf_pred_proba = rf_clf.predict_proba(X_test)\n",
    "\n",
    "lr_clf = LogisticRegression()\n",
    "lr_clf.fit(X_train, y_train)\n",
    "lr_pred = lr_clf.predict(X_test)\n",
    "lr_pred_proba = lr_clf.predict_proba(X_test)"
   ]
  },
  {
   "cell_type": "code",
   "execution_count": 4,
   "id": "871ff2f1",
   "metadata": {
    "scrolled": false
   },
   "outputs": [
    {
     "name": "stdout",
     "output_type": "stream",
     "text": [
      "RandomForestClassifier\n",
      "accuracy: 0.955, precision: 0.200, recall: 0.015, roc_auc: 0.820, f1: 0.028\n",
      "\n",
      "LogisticRegression\n",
      "accuracy: 0.957, precision: 0.000, recall: 0.000, roc_auc: 0.892, f1: 0.000\n",
      "\n"
     ]
    }
   ],
   "source": [
    "print(type(rf_clf).__name__)\n",
    "mf.model_evaluation(y_test, rf_pred, rf_pred_proba)\n",
    "print(type(lr_clf).__name__)\n",
    "mf.model_evaluation(y_test, lr_pred, lr_pred_proba)"
   ]
  },
  {
   "cell_type": "code",
   "execution_count": 5,
   "id": "44dfd9b2",
   "metadata": {},
   "outputs": [
    {
     "name": "stdout",
     "output_type": "stream",
     "text": [
      "RandomForestClassifier\n",
      "[[1463    4]\n",
      " [  65    1]]\n",
      "\n",
      "LogisticRegression\n",
      "[[1467    0]\n",
      " [  66    0]]\n"
     ]
    }
   ],
   "source": [
    "cm = confusion_matrix(y_test, rf_pred)\n",
    "print(type(rf_clf).__name__)\n",
    "print(cm)\n",
    "print()\n",
    "cm = confusion_matrix(y_test, lr_pred)\n",
    "print(type(lr_clf).__name__)\n",
    "print(cm)"
   ]
  },
  {
   "cell_type": "markdown",
   "id": "7837cde9",
   "metadata": {},
   "source": [
    "# SMOTE"
   ]
  },
  {
   "cell_type": "markdown",
   "id": "1d1ec936",
   "metadata": {},
   "source": [
    "**오버 샘플링을 통한 불균형 데이터 처리**"
   ]
  },
  {
   "cell_type": "code",
   "execution_count": 6,
   "id": "1a69e62a",
   "metadata": {},
   "outputs": [
    {
     "name": "stdout",
     "output_type": "stream",
     "text": [
      "0    4860\n",
      "1     249\n",
      "Name: stroke, dtype: int64\n",
      "1    4860\n",
      "0    4860\n",
      "Name: stroke, dtype: int64\n"
     ]
    }
   ],
   "source": [
    "smote = SMOTE()\n",
    "X_smote, y_smote = smote.fit_resample(X_features, y_target)\n",
    "print(y_target.value_counts())\n",
    "print(y_smote.value_counts())"
   ]
  },
  {
   "cell_type": "markdown",
   "id": "6fba5caa",
   "metadata": {},
   "source": [
    "**파라미터 튜닝 없이 성능 측정**"
   ]
  },
  {
   "cell_type": "code",
   "execution_count": 7,
   "id": "eec2bd5c",
   "metadata": {},
   "outputs": [
    {
     "name": "stdout",
     "output_type": "stream",
     "text": [
      "[LightGBM] [Warning] Found whitespace in feature_names, replace with underlines\n",
      "[LightGBM] [Info] Number of positive: 3398, number of negative: 3406\n",
      "[LightGBM] [Info] Auto-choosing row-wise multi-threading, the overhead of testing was 0.000871 seconds.\n",
      "You can set `force_row_wise=true` to remove the overhead.\n",
      "And if memory is not enough, you can set `force_col_wise=true`.\n",
      "[LightGBM] [Info] Total Bins 791\n",
      "[LightGBM] [Info] Number of data points in the train set: 6804, number of used features: 16\n",
      "[LightGBM] [Info] [binary:BoostFromScore]: pavg=0.499412 -> initscore=-0.002352\n",
      "[LightGBM] [Info] Start training from score -0.002352\n"
     ]
    }
   ],
   "source": [
    "X_train, X_test, y_train, y_test = train_test_split(X_smote, y_smote, test_size=0.3, random_state=156)\n",
    "\n",
    "rf_clf = RandomForestClassifier()\n",
    "rf_clf.fit(X_train, y_train)\n",
    "rf_pred = rf_clf.predict(X_test)\n",
    "rf_pred_proba = rf_clf.predict_proba(X_test)\n",
    "\n",
    "lr_clf = LogisticRegression()\n",
    "lr_clf.fit(X_train, y_train)\n",
    "lr_pred = lr_clf.predict(X_test)\n",
    "lr_pred_proba = lr_clf.predict_proba(X_test)\n",
    "\n",
    "xgb_clf = XGBClassifier()\n",
    "xgb_clf.fit(X_train, y_train)\n",
    "xgb_pred = xgb_clf.predict(X_test)\n",
    "xgb_pred_proba = xgb_clf.predict_proba(X_test)\n",
    "\n",
    "lgbm_clf = LGBMClassifier()\n",
    "lgbm_clf.fit(X_train, y_train)\n",
    "lgbm_pred = lgbm_clf.predict(X_test)\n",
    "lgbm_pred_proba = lgbm_clf.predict_proba(X_test)"
   ]
  },
  {
   "cell_type": "code",
   "execution_count": 8,
   "id": "743aa27c",
   "metadata": {},
   "outputs": [
    {
     "name": "stdout",
     "output_type": "stream",
     "text": [
      "RandomForestClassifier\n",
      "accuracy: 0.963, precision: 0.972, recall: 0.953, roc_auc: 0.994, f1: 0.963\n",
      "\n",
      "LogisticRegression\n",
      "accuracy: 0.910, precision: 0.936, recall: 0.880, roc_auc: 0.975, f1: 0.907\n",
      "\n",
      "XGBClassifier\n",
      "accuracy: 0.959, precision: 0.963, recall: 0.954, roc_auc: 0.992, f1: 0.958\n",
      "\n",
      "LGBMClassifier\n",
      "accuracy: 0.962, precision: 0.968, recall: 0.956, roc_auc: 0.992, f1: 0.962\n",
      "\n"
     ]
    }
   ],
   "source": [
    "print(type(rf_clf).__name__)\n",
    "mf.model_evaluation(y_test, rf_pred, rf_pred_proba)\n",
    "\n",
    "print(type(lr_clf).__name__)\n",
    "mf.model_evaluation(y_test, lr_pred, lr_pred_proba)\n",
    "\n",
    "print(type(xgb_clf).__name__)\n",
    "mf.model_evaluation(y_test, xgb_pred, xgb_pred_proba)\n",
    "\n",
    "print(type(lgbm_clf).__name__)\n",
    "mf.model_evaluation(y_test, lgbm_pred, lgbm_pred_proba)"
   ]
  },
  {
   "cell_type": "code",
   "execution_count": 9,
   "id": "00adbc84",
   "metadata": {},
   "outputs": [],
   "source": [
    "result = {\"model\":[\"RandomForest\",\"LogisticRegression\",\"XGBoost\",\"LightGBM\"],\n",
    "         \"accuracy\":[0.963,0.912,0.958,0.960],\n",
    "         \"precision\":[0.973,0.931,0.963,0.967],\n",
    "         \"recall\":[0.951,0.890,0.953,0.951]}\n",
    "\n",
    "result_df = pd.DataFrame.from_dict(result)\n",
    "result_df.set_index(\"model\", inplace=True)"
   ]
  },
  {
   "cell_type": "code",
   "execution_count": 10,
   "id": "302837ea",
   "metadata": {},
   "outputs": [
    {
     "data": {
      "image/png": "[encoded data removed]",
      "text/plain": [
       "<Figure size 640x480 with 1 Axes>"
      ]
     },
     "metadata": {},
     "output_type": "display_data"
    }
   ],
   "source": [
    "result_df.plot.barh()\n",
    "plt.show()"
   ]
  },
  {
   "cell_type": "code",
   "execution_count": 11,
   "id": "01340878",
   "metadata": {
    "scrolled": false
   },
   "outputs": [
    {
     "name": "stdout",
     "output_type": "stream",
     "text": [
      "\t\t -------- Random Forest --------\n"
     ]
    },
    {
     "data": {
      "image/png": "[encoded data removed]",
      "text/plain": [
       "<Figure size 640x480 with 2 Axes>"
      ]
     },
     "metadata": {},
     "output_type": "display_data"
    },
    {
     "name": "stdout",
     "output_type": "stream",
     "text": [
      "\t\t-------- Logistic Regression --------\n"
     ]
    },
    {
     "data": {
      "image/png": "[encoded data removed]",
      "text/plain": [
       "<Figure size 640x480 with 2 Axes>"
      ]
     },
     "metadata": {},
     "output_type": "display_data"
    },
    {
     "name": "stdout",
     "output_type": "stream",
     "text": [
      "\t\t   -------- XGBoost --------\n"
     ]
    },
    {
     "data": {
      "image/png": "[encoded data removed]",
      "text/plain": [
       "<Figure size 640x480 with 2 Axes>"
      ]
     },
     "metadata": {},
     "output_type": "display_data"
    },
    {
     "name": "stdout",
     "output_type": "stream",
     "text": [
      "\t\t  -------- LightGBM --------\n"
     ]
    },
    {
     "data": {
      "image/png": "[encoded data removed]",
      "text/plain": [
       "<Figure size 640x480 with 2 Axes>"
      ]
     },
     "metadata": {},
     "output_type": "display_data"
    }
   ],
   "source": [
    "rf_cm = confusion_matrix(y_test, rf_pred)\n",
    "print(\"\\t\\t -------- Random Forest --------\")\n",
    "matrix = ConfusionMatrixDisplay(confusion_matrix=rf_cm)\n",
    "matrix.plot()\n",
    "plt.show()\n",
    "\n",
    "lr_cm = confusion_matrix(y_test, lr_pred)\n",
    "print(\"\\t\\t-------- Logistic Regression --------\")\n",
    "matrix = ConfusionMatrixDisplay(confusion_matrix=lr_cm)\n",
    "matrix.plot()\n",
    "plt.show()\n",
    "\n",
    "xgb_cm = confusion_matrix(y_test, xgb_pred)\n",
    "print(\"\\t\\t   -------- XGBoost --------\")\n",
    "matrix = ConfusionMatrixDisplay(confusion_matrix=xgb_cm)\n",
    "matrix.plot()\n",
    "plt.show()\n",
    "\n",
    "lgbm_cm = confusion_matrix(y_test, lgbm_pred)\n",
    "print(\"\\t\\t  -------- LightGBM --------\")\n",
    "matrix = ConfusionMatrixDisplay(confusion_matrix=cm)\n",
    "matrix.plot()\n",
    "plt.show()"
   ]
  },
  {
   "cell_type": "markdown",
   "id": "2d0faa00",
   "metadata": {},
   "source": [
    "**본 프로젝트에서 가장 중요한 기준인 recall과 혼동행렬의 결과를 통해 xgboost 모델 채택**"
   ]
  },
  {
   "cell_type": "markdown",
   "id": "b919b041",
   "metadata": {},
   "source": [
    "# 파라미터 튜닝"
   ]
  },
  {
   "cell_type": "code",
   "execution_count": 13,
   "id": "0e0e1ecc",
   "metadata": {},
   "outputs": [],
   "source": [
    "#학습 데이터 / 테스트 데이터\n",
    "X_train, X_test, y_train, y_test=train_test_split(X_smote, y_smote, test_size=0.3, random_state=156 )\n",
    "# 학습 데이터 / 검증 데이터\n",
    "X_tr, X_val, y_tr, y_val= train_test_split(X_train, y_train, test_size=0.1, random_state=156 )\n",
    "\n",
    "xgb_search_space = {'max_depth': hp.quniform('max_depth', 5, 20, 1),\n",
    "                    'min_child_weight': hp.quniform('min_child_weight', 1, 2, 1),\n",
    "                    'learning_rate': hp.uniform('learning_rate', 0.01, 0.2),\n",
    "                    'colsample_bytree': hp.uniform('colsample_bytree', 0.5, 1)\n",
    "               }"
   ]
  },
  {
   "cell_type": "code",
   "execution_count": 14,
   "id": "6b6d8c63",
   "metadata": {},
   "outputs": [],
   "source": [
    "def xgb_tunning(search_space):\n",
    "    xgb_clf = XGBClassifier(n_estimators=100, max_depth=int(search_space['max_depth']),\n",
    "                            min_child_weight=int(search_space['min_child_weight']),\n",
    "                            learning_rate=search_space['learning_rate'],\n",
    "                            colsample_bytree=search_space['colsample_bytree'], \n",
    "                            eval_metric='logloss')\n",
    "    \n",
    "    accuracy = cross_val_score(xgb_clf, X_train, y_train, scoring='accuracy', cv=3)\n",
    "        \n",
    "    \n",
    "    return {'loss':-1 * np.mean(accuracy), 'status': STATUS_OK}"
   ]
  },
  {
   "cell_type": "code",
   "execution_count": 17,
   "id": "72345aff",
   "metadata": {},
   "outputs": [
    {
     "name": "stdout",
     "output_type": "stream",
     "text": [
      "100%|███████████████████████████████████████████████| 50/50 [02:23<00:00,  2.87s/trial, best loss: -0.9650205761316872]\n",
      "best: {'colsample_bytree': 0.6819691032385918, 'learning_rate': 0.09973526932696895, 'max_depth': 18.0, 'min_child_weight': 1.0}\n"
     ]
    }
   ],
   "source": [
    "trial_val = Trials()\n",
    "\n",
    "best = fmin(fn= xgb_tunning,\n",
    "            space=xgb_search_space,\n",
    "            algo=tpe.suggest,\n",
    "            max_evals=50,\n",
    "            trials=trial_val, rstate=np.random.default_rng(seed=9))\n",
    "print('best:', best)"
   ]
  },
  {
   "cell_type": "code",
   "execution_count": 18,
   "id": "382cc739",
   "metadata": {},
   "outputs": [
    {
     "name": "stdout",
     "output_type": "stream",
     "text": [
      "colsample_bytree:0.682, learning_rate:0.1, max_depth:18, min_child_weight:1\n"
     ]
    }
   ],
   "source": [
    "print('colsample_bytree:{0}, learning_rate:{1}, max_depth:{2}, min_child_weight:{3}'.format(\n",
    "                        round(best['colsample_bytree'], 3), round(best['learning_rate'], 3),\n",
    "                        int(best['max_depth']), int(best['min_child_weight'])))"
   ]
  },
  {
   "cell_type": "code",
   "execution_count": 20,
   "id": "c51e1e18",
   "metadata": {},
   "outputs": [
    {
     "name": "stdout",
     "output_type": "stream",
     "text": [
      "[0]\tvalidation_0-logloss:0.61452\tvalidation_1-logloss:0.61960\n",
      "[1]\tvalidation_0-logloss:0.57393\tvalidation_1-logloss:0.58827\n",
      "[2]\tvalidation_0-logloss:0.52795\tvalidation_1-logloss:0.54801\n",
      "[3]\tvalidation_0-logloss:0.48425\tvalidation_1-logloss:0.51039\n",
      "[4]\tvalidation_0-logloss:0.44038\tvalidation_1-logloss:0.46959\n",
      "[5]\tvalidation_0-logloss:0.39894\tvalidation_1-logloss:0.43155\n",
      "[6]\tvalidation_0-logloss:0.36445\tvalidation_1-logloss:0.39901\n",
      "[7]\tvalidation_0-logloss:0.33278\tvalidation_1-logloss:0.36950\n",
      "[8]\tvalidation_0-logloss:0.31224\tvalidation_1-logloss:0.35133\n",
      "[9]\tvalidation_0-logloss:0.29044\tvalidation_1-logloss:0.33202\n",
      "[10]\tvalidation_0-logloss:0.27335\tvalidation_1-logloss:0.31774\n",
      "[11]\tvalidation_0-logloss:0.25165\tvalidation_1-logloss:0.29750\n",
      "[12]\tvalidation_0-logloss:0.23878\tvalidation_1-logloss:0.28632\n",
      "[13]\tvalidation_0-logloss:0.22126\tvalidation_1-logloss:0.26910\n",
      "[14]\tvalidation_0-logloss:0.20619\tvalidation_1-logloss:0.25572\n",
      "[15]\tvalidation_0-logloss:0.19258\tvalidation_1-logloss:0.24356\n",
      "[16]\tvalidation_0-logloss:0.18093\tvalidation_1-logloss:0.23261\n",
      "[17]\tvalidation_0-logloss:0.16974\tvalidation_1-logloss:0.22312\n",
      "[18]\tvalidation_0-logloss:0.16036\tvalidation_1-logloss:0.21478\n",
      "[19]\tvalidation_0-logloss:0.15313\tvalidation_1-logloss:0.20911\n",
      "[20]\tvalidation_0-logloss:0.14433\tvalidation_1-logloss:0.20108\n",
      "[21]\tvalidation_0-logloss:0.13632\tvalidation_1-logloss:0.19408\n",
      "[22]\tvalidation_0-logloss:0.13160\tvalidation_1-logloss:0.18957\n",
      "[23]\tvalidation_0-logloss:0.12598\tvalidation_1-logloss:0.18434\n",
      "[24]\tvalidation_0-logloss:0.11952\tvalidation_1-logloss:0.17930\n",
      "[25]\tvalidation_0-logloss:0.11374\tvalidation_1-logloss:0.17327\n",
      "[26]\tvalidation_0-logloss:0.10810\tvalidation_1-logloss:0.16873\n",
      "[27]\tvalidation_0-logloss:0.10252\tvalidation_1-logloss:0.16329\n",
      "[28]\tvalidation_0-logloss:0.09810\tvalidation_1-logloss:0.15870\n",
      "[29]\tvalidation_0-logloss:0.09261\tvalidation_1-logloss:0.15296\n",
      "[30]\tvalidation_0-logloss:0.08905\tvalidation_1-logloss:0.15009\n",
      "[31]\tvalidation_0-logloss:0.08569\tvalidation_1-logloss:0.14671\n",
      "[32]\tvalidation_0-logloss:0.08210\tvalidation_1-logloss:0.14214\n",
      "[33]\tvalidation_0-logloss:0.07892\tvalidation_1-logloss:0.13916\n",
      "[34]\tvalidation_0-logloss:0.07637\tvalidation_1-logloss:0.13680\n",
      "[35]\tvalidation_0-logloss:0.07319\tvalidation_1-logloss:0.13393\n",
      "[36]\tvalidation_0-logloss:0.07023\tvalidation_1-logloss:0.13105\n",
      "[37]\tvalidation_0-logloss:0.06707\tvalidation_1-logloss:0.12834\n",
      "[38]\tvalidation_0-logloss:0.06414\tvalidation_1-logloss:0.12554\n",
      "[39]\tvalidation_0-logloss:0.06220\tvalidation_1-logloss:0.12381\n",
      "[40]\tvalidation_0-logloss:0.06041\tvalidation_1-logloss:0.12274\n",
      "[41]\tvalidation_0-logloss:0.05767\tvalidation_1-logloss:0.12050\n",
      "[42]\tvalidation_0-logloss:0.05628\tvalidation_1-logloss:0.11907\n",
      "[43]\tvalidation_0-logloss:0.05392\tvalidation_1-logloss:0.11673\n",
      "[44]\tvalidation_0-logloss:0.05214\tvalidation_1-logloss:0.11542\n",
      "[45]\tvalidation_0-logloss:0.05082\tvalidation_1-logloss:0.11446\n",
      "[46]\tvalidation_0-logloss:0.04947\tvalidation_1-logloss:0.11382\n",
      "[47]\tvalidation_0-logloss:0.04833\tvalidation_1-logloss:0.11258\n",
      "[48]\tvalidation_0-logloss:0.04670\tvalidation_1-logloss:0.11116\n",
      "[49]\tvalidation_0-logloss:0.04541\tvalidation_1-logloss:0.11007\n",
      "[50]\tvalidation_0-logloss:0.04420\tvalidation_1-logloss:0.10932\n",
      "[51]\tvalidation_0-logloss:0.04332\tvalidation_1-logloss:0.10877\n",
      "[52]\tvalidation_0-logloss:0.04238\tvalidation_1-logloss:0.10796\n",
      "[53]\tvalidation_0-logloss:0.04138\tvalidation_1-logloss:0.10700\n",
      "[54]\tvalidation_0-logloss:0.04044\tvalidation_1-logloss:0.10668\n",
      "[55]\tvalidation_0-logloss:0.03985\tvalidation_1-logloss:0.10641\n",
      "[56]\tvalidation_0-logloss:0.03895\tvalidation_1-logloss:0.10541\n",
      "[57]\tvalidation_0-logloss:0.03802\tvalidation_1-logloss:0.10488\n",
      "[58]\tvalidation_0-logloss:0.03739\tvalidation_1-logloss:0.10442\n",
      "[59]\tvalidation_0-logloss:0.03645\tvalidation_1-logloss:0.10332\n",
      "[60]\tvalidation_0-logloss:0.03569\tvalidation_1-logloss:0.10282\n",
      "[61]\tvalidation_0-logloss:0.03528\tvalidation_1-logloss:0.10245\n",
      "[62]\tvalidation_0-logloss:0.03441\tvalidation_1-logloss:0.10174\n",
      "[63]\tvalidation_0-logloss:0.03352\tvalidation_1-logloss:0.10095\n",
      "[64]\tvalidation_0-logloss:0.03271\tvalidation_1-logloss:0.10031\n",
      "[65]\tvalidation_0-logloss:0.03225\tvalidation_1-logloss:0.10000\n",
      "[66]\tvalidation_0-logloss:0.03164\tvalidation_1-logloss:0.09964\n",
      "[67]\tvalidation_0-logloss:0.03107\tvalidation_1-logloss:0.09923\n",
      "[68]\tvalidation_0-logloss:0.03034\tvalidation_1-logloss:0.09878\n",
      "[69]\tvalidation_0-logloss:0.02976\tvalidation_1-logloss:0.09823\n",
      "[70]\tvalidation_0-logloss:0.02925\tvalidation_1-logloss:0.09742\n",
      "[71]\tvalidation_0-logloss:0.02869\tvalidation_1-logloss:0.09674\n",
      "[72]\tvalidation_0-logloss:0.02808\tvalidation_1-logloss:0.09656\n",
      "[73]\tvalidation_0-logloss:0.02739\tvalidation_1-logloss:0.09621\n",
      "[74]\tvalidation_0-logloss:0.02688\tvalidation_1-logloss:0.09548\n",
      "[75]\tvalidation_0-logloss:0.02668\tvalidation_1-logloss:0.09530\n",
      "[76]\tvalidation_0-logloss:0.02628\tvalidation_1-logloss:0.09515\n",
      "[77]\tvalidation_0-logloss:0.02615\tvalidation_1-logloss:0.09517\n",
      "[78]\tvalidation_0-logloss:0.02574\tvalidation_1-logloss:0.09459\n",
      "[79]\tvalidation_0-logloss:0.02532\tvalidation_1-logloss:0.09428\n",
      "[80]\tvalidation_0-logloss:0.02494\tvalidation_1-logloss:0.09434\n",
      "[81]\tvalidation_0-logloss:0.02436\tvalidation_1-logloss:0.09371\n",
      "[82]\tvalidation_0-logloss:0.02395\tvalidation_1-logloss:0.09356\n",
      "[83]\tvalidation_0-logloss:0.02358\tvalidation_1-logloss:0.09293\n",
      "[84]\tvalidation_0-logloss:0.02335\tvalidation_1-logloss:0.09252\n",
      "[85]\tvalidation_0-logloss:0.02304\tvalidation_1-logloss:0.09242\n",
      "[86]\tvalidation_0-logloss:0.02270\tvalidation_1-logloss:0.09226\n",
      "[87]\tvalidation_0-logloss:0.02250\tvalidation_1-logloss:0.09212\n",
      "[88]\tvalidation_0-logloss:0.02223\tvalidation_1-logloss:0.09143\n",
      "[89]\tvalidation_0-logloss:0.02197\tvalidation_1-logloss:0.09153\n",
      "[90]\tvalidation_0-logloss:0.02168\tvalidation_1-logloss:0.09139\n",
      "[91]\tvalidation_0-logloss:0.02135\tvalidation_1-logloss:0.09121\n",
      "[92]\tvalidation_0-logloss:0.02097\tvalidation_1-logloss:0.09079\n",
      "[93]\tvalidation_0-logloss:0.02071\tvalidation_1-logloss:0.09072\n",
      "[94]\tvalidation_0-logloss:0.02040\tvalidation_1-logloss:0.09063\n",
      "[95]\tvalidation_0-logloss:0.02019\tvalidation_1-logloss:0.09035\n",
      "[96]\tvalidation_0-logloss:0.01994\tvalidation_1-logloss:0.08994\n",
      "[97]\tvalidation_0-logloss:0.01969\tvalidation_1-logloss:0.08962\n",
      "[98]\tvalidation_0-logloss:0.01950\tvalidation_1-logloss:0.08962\n",
      "[99]\tvalidation_0-logloss:0.01921\tvalidation_1-logloss:0.08926\n",
      "[100]\tvalidation_0-logloss:0.01900\tvalidation_1-logloss:0.08906\n",
      "[101]\tvalidation_0-logloss:0.01881\tvalidation_1-logloss:0.08903\n",
      "[102]\tvalidation_0-logloss:0.01864\tvalidation_1-logloss:0.08902\n",
      "[103]\tvalidation_0-logloss:0.01851\tvalidation_1-logloss:0.08897\n",
      "[104]\tvalidation_0-logloss:0.01835\tvalidation_1-logloss:0.08886\n",
      "[105]\tvalidation_0-logloss:0.01815\tvalidation_1-logloss:0.08897\n",
      "[106]\tvalidation_0-logloss:0.01799\tvalidation_1-logloss:0.08911\n",
      "[107]\tvalidation_0-logloss:0.01771\tvalidation_1-logloss:0.08883\n",
      "[108]\tvalidation_0-logloss:0.01758\tvalidation_1-logloss:0.08901\n",
      "[109]\tvalidation_0-logloss:0.01738\tvalidation_1-logloss:0.08889\n",
      "[110]\tvalidation_0-logloss:0.01720\tvalidation_1-logloss:0.08906\n",
      "[111]\tvalidation_0-logloss:0.01703\tvalidation_1-logloss:0.08910\n",
      "[112]\tvalidation_0-logloss:0.01693\tvalidation_1-logloss:0.08909\n",
      "[113]\tvalidation_0-logloss:0.01667\tvalidation_1-logloss:0.08887\n",
      "[114]\tvalidation_0-logloss:0.01649\tvalidation_1-logloss:0.08891\n",
      "[115]\tvalidation_0-logloss:0.01640\tvalidation_1-logloss:0.08896\n",
      "[116]\tvalidation_0-logloss:0.01619\tvalidation_1-logloss:0.08903\n",
      "[117]\tvalidation_0-logloss:0.01603\tvalidation_1-logloss:0.08901\n",
      "[118]\tvalidation_0-logloss:0.01588\tvalidation_1-logloss:0.08902\n",
      "[119]\tvalidation_0-logloss:0.01575\tvalidation_1-logloss:0.08876\n",
      "[120]\tvalidation_0-logloss:0.01555\tvalidation_1-logloss:0.08882\n",
      "[121]\tvalidation_0-logloss:0.01539\tvalidation_1-logloss:0.08872\n",
      "[122]\tvalidation_0-logloss:0.01524\tvalidation_1-logloss:0.08878\n",
      "[123]\tvalidation_0-logloss:0.01509\tvalidation_1-logloss:0.08843\n",
      "[124]\tvalidation_0-logloss:0.01498\tvalidation_1-logloss:0.08854\n",
      "[125]\tvalidation_0-logloss:0.01488\tvalidation_1-logloss:0.08840\n",
      "[126]\tvalidation_0-logloss:0.01471\tvalidation_1-logloss:0.08810\n",
      "[127]\tvalidation_0-logloss:0.01461\tvalidation_1-logloss:0.08792\n",
      "[128]\tvalidation_0-logloss:0.01452\tvalidation_1-logloss:0.08770\n",
      "[129]\tvalidation_0-logloss:0.01438\tvalidation_1-logloss:0.08787\n"
     ]
    },
    {
     "name": "stdout",
     "output_type": "stream",
     "text": [
      "[130]\tvalidation_0-logloss:0.01426\tvalidation_1-logloss:0.08770\n",
      "[131]\tvalidation_0-logloss:0.01417\tvalidation_1-logloss:0.08773\n",
      "[132]\tvalidation_0-logloss:0.01405\tvalidation_1-logloss:0.08771\n",
      "[133]\tvalidation_0-logloss:0.01392\tvalidation_1-logloss:0.08765\n",
      "[134]\tvalidation_0-logloss:0.01384\tvalidation_1-logloss:0.08766\n",
      "[135]\tvalidation_0-logloss:0.01372\tvalidation_1-logloss:0.08779\n",
      "[136]\tvalidation_0-logloss:0.01360\tvalidation_1-logloss:0.08773\n",
      "[137]\tvalidation_0-logloss:0.01347\tvalidation_1-logloss:0.08781\n",
      "[138]\tvalidation_0-logloss:0.01334\tvalidation_1-logloss:0.08786\n",
      "[139]\tvalidation_0-logloss:0.01321\tvalidation_1-logloss:0.08782\n",
      "[140]\tvalidation_0-logloss:0.01308\tvalidation_1-logloss:0.08798\n",
      "[141]\tvalidation_0-logloss:0.01298\tvalidation_1-logloss:0.08794\n",
      "[142]\tvalidation_0-logloss:0.01290\tvalidation_1-logloss:0.08780\n",
      "[143]\tvalidation_0-logloss:0.01281\tvalidation_1-logloss:0.08792\n",
      "[144]\tvalidation_0-logloss:0.01272\tvalidation_1-logloss:0.08779\n",
      "[145]\tvalidation_0-logloss:0.01261\tvalidation_1-logloss:0.08781\n",
      "[146]\tvalidation_0-logloss:0.01254\tvalidation_1-logloss:0.08789\n",
      "[147]\tvalidation_0-logloss:0.01244\tvalidation_1-logloss:0.08779\n",
      "[148]\tvalidation_0-logloss:0.01237\tvalidation_1-logloss:0.08766\n",
      "[149]\tvalidation_0-logloss:0.01228\tvalidation_1-logloss:0.08769\n",
      "[150]\tvalidation_0-logloss:0.01220\tvalidation_1-logloss:0.08767\n",
      "[151]\tvalidation_0-logloss:0.01208\tvalidation_1-logloss:0.08751\n",
      "[152]\tvalidation_0-logloss:0.01201\tvalidation_1-logloss:0.08771\n",
      "[153]\tvalidation_0-logloss:0.01190\tvalidation_1-logloss:0.08778\n",
      "[154]\tvalidation_0-logloss:0.01181\tvalidation_1-logloss:0.08785\n",
      "[155]\tvalidation_0-logloss:0.01173\tvalidation_1-logloss:0.08800\n",
      "[156]\tvalidation_0-logloss:0.01164\tvalidation_1-logloss:0.08804\n",
      "[157]\tvalidation_0-logloss:0.01154\tvalidation_1-logloss:0.08775\n",
      "[158]\tvalidation_0-logloss:0.01147\tvalidation_1-logloss:0.08777\n",
      "[159]\tvalidation_0-logloss:0.01141\tvalidation_1-logloss:0.08809\n",
      "[160]\tvalidation_0-logloss:0.01131\tvalidation_1-logloss:0.08826\n",
      "[161]\tvalidation_0-logloss:0.01121\tvalidation_1-logloss:0.08805\n",
      "[162]\tvalidation_0-logloss:0.01114\tvalidation_1-logloss:0.08823\n",
      "[163]\tvalidation_0-logloss:0.01107\tvalidation_1-logloss:0.08823\n",
      "[164]\tvalidation_0-logloss:0.01102\tvalidation_1-logloss:0.08844\n",
      "[165]\tvalidation_0-logloss:0.01093\tvalidation_1-logloss:0.08860\n",
      "[166]\tvalidation_0-logloss:0.01088\tvalidation_1-logloss:0.08857\n",
      "[167]\tvalidation_0-logloss:0.01081\tvalidation_1-logloss:0.08856\n",
      "[168]\tvalidation_0-logloss:0.01072\tvalidation_1-logloss:0.08862\n",
      "[169]\tvalidation_0-logloss:0.01067\tvalidation_1-logloss:0.08875\n",
      "[170]\tvalidation_0-logloss:0.01060\tvalidation_1-logloss:0.08859\n",
      "[171]\tvalidation_0-logloss:0.01054\tvalidation_1-logloss:0.08867\n",
      "[172]\tvalidation_0-logloss:0.01049\tvalidation_1-logloss:0.08869\n",
      "[173]\tvalidation_0-logloss:0.01044\tvalidation_1-logloss:0.08863\n",
      "[174]\tvalidation_0-logloss:0.01039\tvalidation_1-logloss:0.08855\n",
      "[175]\tvalidation_0-logloss:0.01032\tvalidation_1-logloss:0.08855\n",
      "[176]\tvalidation_0-logloss:0.01026\tvalidation_1-logloss:0.08859\n",
      "[177]\tvalidation_0-logloss:0.01022\tvalidation_1-logloss:0.08851\n",
      "[178]\tvalidation_0-logloss:0.01021\tvalidation_1-logloss:0.08851\n",
      "[179]\tvalidation_0-logloss:0.01017\tvalidation_1-logloss:0.08849\n",
      "[180]\tvalidation_0-logloss:0.01013\tvalidation_1-logloss:0.08855\n",
      "[181]\tvalidation_0-logloss:0.01008\tvalidation_1-logloss:0.08851\n",
      "[182]\tvalidation_0-logloss:0.01002\tvalidation_1-logloss:0.08843\n",
      "[183]\tvalidation_0-logloss:0.00996\tvalidation_1-logloss:0.08846\n",
      "[184]\tvalidation_0-logloss:0.00991\tvalidation_1-logloss:0.08858\n",
      "[185]\tvalidation_0-logloss:0.00984\tvalidation_1-logloss:0.08877\n",
      "[186]\tvalidation_0-logloss:0.00977\tvalidation_1-logloss:0.08898\n",
      "[187]\tvalidation_0-logloss:0.00972\tvalidation_1-logloss:0.08893\n",
      "[188]\tvalidation_0-logloss:0.00967\tvalidation_1-logloss:0.08883\n",
      "[189]\tvalidation_0-logloss:0.00961\tvalidation_1-logloss:0.08875\n",
      "[190]\tvalidation_0-logloss:0.00955\tvalidation_1-logloss:0.08871\n",
      "[191]\tvalidation_0-logloss:0.00950\tvalidation_1-logloss:0.08868\n",
      "[192]\tvalidation_0-logloss:0.00944\tvalidation_1-logloss:0.08879\n",
      "[193]\tvalidation_0-logloss:0.00941\tvalidation_1-logloss:0.08880\n",
      "[194]\tvalidation_0-logloss:0.00936\tvalidation_1-logloss:0.08874\n",
      "[195]\tvalidation_0-logloss:0.00932\tvalidation_1-logloss:0.08878\n",
      "[196]\tvalidation_0-logloss:0.00929\tvalidation_1-logloss:0.08873\n",
      "[197]\tvalidation_0-logloss:0.00925\tvalidation_1-logloss:0.08896\n",
      "[198]\tvalidation_0-logloss:0.00921\tvalidation_1-logloss:0.08889\n",
      "[199]\tvalidation_0-logloss:0.00916\tvalidation_1-logloss:0.08880\n",
      "[200]\tvalidation_0-logloss:0.00913\tvalidation_1-logloss:0.08869\n",
      "accuracy: 0.965, precision: 0.968, recall: 0.961, roc_auc: 0.994, f1: 0.965\n",
      "\n"
     ]
    }
   ],
   "source": [
    "xgb_clf = XGBClassifier(n_estimators=300, learning_rate=round(best['learning_rate'], 3), \n",
    "                            max_depth=int(best['max_depth']), min_child_weight=int(best['min_child_weight']),\n",
    "                            colsample_bytree=round(best['colsample_bytree'], 3)\n",
    "                           )\n",
    "\n",
    "evals = [(X_tr, y_tr), (X_val, y_val)]\n",
    "xgb_clf.fit(X_tr, y_tr, early_stopping_rounds=50, eval_metric='logloss', \n",
    "                eval_set=evals, verbose=True)\n",
    "\n",
    "pred = xgb_clf.predict(X_test)\n",
    "pred_proba = xgb_clf.predict_proba(X_test)\n",
    "\n",
    "\n",
    "mf.model_evaluation(y_test, pred, pred_proba)"
   ]
  },
  {
   "cell_type": "code",
   "execution_count": 23,
   "id": "0da19880",
   "metadata": {},
   "outputs": [
    {
     "data": {
      "image/png": "[encoded data removed]",
      "text/plain": [
       "<Figure size 800x500 with 1 Axes>"
      ]
     },
     "metadata": {},
     "output_type": "display_data"
    }
   ],
   "source": [
    "labels = ['Accuracy', 'Precision', 'Recall']\n",
    "before_tuning = [0.959, 0.963, 0.954]\n",
    "after_tuning = [0.965, 0.968, 0.961]\n",
    "\n",
    "x = range(len(labels))\n",
    "\n",
    "\n",
    "plt.figure(figsize=(8, 5))\n",
    "plt.plot(labels, before_tuning, marker=\"o\", label=\"Before\")\n",
    "plt.plot(labels, after_tuning, marker=\"o\", label=\"After\")\n",
    "\n",
    "plt.ylabel('score')\n",
    "plt.title('model performance improved')\n",
    "plt.legend()\n",
    "\n",
    "\n",
    "plt.show()"
   ]
  }
 ],
 "metadata": {
  "kernelspec": {
   "display_name": "Python 3 (ipykernel)",
   "language": "python",
   "name": "python3"
  },
  "language_info": {
   "codemirror_mode": {
    "name": "ipython",
    "version": 3
   },
   "file_extension": ".py",
   "mimetype": "text/x-python",
   "name": "python",
   "nbconvert_exporter": "python",
   "pygments_lexer": "ipython3",
   "version": "3.9.13"
  },
  "toc": {
   "base_numbering": 1,
   "nav_menu": {},
   "number_sections": true,
   "sideBar": true,
   "skip_h1_title": false,
   "title_cell": "Table of Contents",
   "title_sidebar": "Contents",
   "toc_cell": false,
   "toc_position": {
    "height": "calc(100% - 180px)",
    "left": "10px",
    "top": "150px",
    "width": "307.2px"
   },
   "toc_section_display": true,
   "toc_window_display": true
  }
 },
 "nbformat": 4,
 "nbformat_minor": 5
}
